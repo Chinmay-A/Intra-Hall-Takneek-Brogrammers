{
 "cells": [
  {
   "cell_type": "code",
   "execution_count": 1,
   "id": "12aa776c",
   "metadata": {},
   "outputs": [],
   "source": [
    "import matplotlib.pyplot as plt\n",
    "import pandas as pd\n",
    "from sklearn.metrics import mean_squared_error\n",
    "from sklearn.model_selection import train_test_split\n",
    "from sklearn.linear_model import LinearRegression\n",
    "import numpy as np\n",
    "import seaborn as sns"
   ]
  },
  {
   "cell_type": "code",
   "execution_count": 2,
   "id": "54b2d052",
   "metadata": {},
   "outputs": [
    {
     "name": "stdout",
     "output_type": "stream",
     "text": [
      "           Mat      Inns        NO      Runs        BF        SR       100  \\\n",
      "Mat   1.000000  0.812187  0.540736  0.621380  0.624197  0.178601  0.160287   \n",
      "Inns  0.812187  1.000000  0.407033  0.880307  0.884458  0.336176  0.221278   \n",
      "NO    0.540736  0.407033  1.000000  0.224061  0.186919  0.168349  0.030824   \n",
      "Runs  0.621380  0.880307  0.224061  1.000000  0.986888  0.350650  0.461250   \n",
      "BF    0.624197  0.884458  0.186919  0.986888  1.000000  0.283462  0.434576   \n",
      "SR    0.178601  0.336176  0.168349  0.350650  0.283462  1.000000  0.077074   \n",
      "100   0.160287  0.221278  0.030824  0.461250  0.434576  0.077074  1.000000   \n",
      "50    0.454827  0.682295  0.097495  0.865277  0.857797  0.259396  0.340836   \n",
      "4s    0.572930  0.831160  0.121716  0.963215  0.960353  0.309171  0.438869   \n",
      "\n",
      "            50        4s  \n",
      "Mat   0.454827  0.572930  \n",
      "Inns  0.682295  0.831160  \n",
      "NO    0.097495  0.121716  \n",
      "Runs  0.865277  0.963215  \n",
      "BF    0.857797  0.960353  \n",
      "SR    0.259396  0.309171  \n",
      "100   0.340836  0.438869  \n",
      "50    1.000000  0.858740  \n",
      "4s    0.858740  1.000000  \n"
     ]
    },
    {
     "name": "stderr",
     "output_type": "stream",
     "text": [
      "C:\\Users\\chinm\\AppData\\Local\\Temp\\ipykernel_8448\\3717961978.py:11: FutureWarning: The default value of numeric_only in DataFrame.corr is deprecated. In a future version, it will default to False. Select only valid columns or specify the value of numeric_only to silence this warning.\n",
      "  corr = df.corr()\n"
     ]
    }
   ],
   "source": [
    "#reading the csv file\n",
    "df = pd.read_csv(\"IPL 2022 Batters.csv\")\n",
    "\n",
    "#adjusting max rows to display all rows\n",
    "pd.options.display.max_rows = 200\n",
    "\n",
    "#dealing with null values\n",
    "df = df.dropna()\n",
    "\n",
    "#exploring correlations in the data\n",
    "corr = df.corr()\n",
    "print(corr)\n",
    "\n",
    "data = {\n",
    "  \"Runs\" : df.iloc[:,4],\n",
    "  \"HS\" : df.iloc[:,5],\n",
    "  \"SR\" : df.iloc[:,8]\n",
    "}\n",
    "\n",
    "df1 = pd.DataFrame(data)\n",
    "\n",
    "#taking number of runs as dependent variable and number of 4s as independent variable\n",
    "X = np.array(df.iloc[:,4]).reshape(-1,1)\n",
    "Y = np.array(df.iloc[:,11]).reshape(-1,1)\n",
    "\n",
    "#splitting dataset into train and test sets\n",
    "x_train, x_test, y_train, y_test = train_test_split(X, Y)\n",
    "\n",
    "#using sklearn to train our model\n",
    "regr = LinearRegression()\n",
    "regr.fit(x_train, y_train)\n",
    "\n",
    "#using model to predict number of 4s for test data\n",
    "y_pred = regr.predict(x_test)"
   ]
  },
  {
   "cell_type": "code",
   "execution_count": 3,
   "id": "8c64e8e3",
   "metadata": {},
   "outputs": [
    {
     "data": {
      "image/png": "[encoded data removed]",
      "text/plain": [
       "<Figure size 640x480 with 1 Axes>"
      ]
     },
     "metadata": {},
     "output_type": "display_data"
    }
   ],
   "source": [
    "plt.scatter(x_test, y_test, color ='b')\n",
    "plt.plot(x_test, y_pred, color ='k')\n",
    "plt.xlabel(\"Number of Runs\")\n",
    "plt.ylabel(\"Number of 4s\")\n",
    "plt.show()"
   ]
  },
  {
   "cell_type": "code",
   "execution_count": 4,
   "id": "c405e97c",
   "metadata": {},
   "outputs": [
    {
     "name": "stdout",
     "output_type": "stream",
     "text": [
      "Mean squared error for test data :13.371826537024049\n"
     ]
    }
   ],
   "source": [
    "MSE_test = mean_squared_error(y_test,y_pred)\n",
    "print(\"Mean squared error for test data :\"+str(MSE_test))"
   ]
  },
  {
   "cell_type": "code",
   "execution_count": 5,
   "id": "fef02c63",
   "metadata": {},
   "outputs": [
    {
     "name": "stdout",
     "output_type": "stream",
     "text": [
      "Mean squared error for train data :18.813144584211123\n"
     ]
    }
   ],
   "source": [
    "y_pred = regr.predict(x_train)\n",
    "\n",
    "MSE_train = mean_squared_error(y_train,y_pred)\n",
    "print(\"Mean squared error for train data :\"+str(MSE_train))"
   ]
  },
  {
   "cell_type": "code",
   "execution_count": 6,
   "id": "9fb666ac",
   "metadata": {},
   "outputs": [
    {
     "name": "stdout",
     "output_type": "stream",
     "text": [
      "    4s  Predicted 4s\n",
      "0    2      1.614553\n",
      "1    3      3.445051\n",
      "2    1      1.353054\n",
      "3   21     19.919530\n",
      "4    2      1.701720\n",
      "5    1      0.045555\n",
      "6    9      7.367546\n",
      "7    0     -0.041611\n",
      "8    1      0.655721\n",
      "9   41     34.650678\n",
      "10   7      6.408714\n",
      "11   0     -0.128778\n",
      "12   8      6.060048\n",
      "13   3      1.527387\n",
      "14  27     28.461852\n",
      "15   2      0.394221\n",
      "16   6      5.885714\n",
      "17   0      0.307055\n",
      "18  14      9.110877\n",
      "19   7     10.156876\n",
      "20  52     37.352841\n",
      "21  14     11.290041\n",
      "22   1      3.009218\n",
      "23   0     -0.041611\n",
      "24   2      3.183551\n",
      "25  32     29.420684\n",
      "26  83     74.921626\n",
      "27  33     31.774181\n",
      "28  35     29.333518\n",
      "29  16     15.648369\n",
      "30   0      0.307055\n",
      "31   0     -0.128778\n",
      "32  49     40.490837\n",
      "33  47     43.977499\n",
      "34   2      4.752549\n",
      "35   5      5.711381\n",
      "36   5      5.188382\n",
      "37   0      0.481388\n",
      "38   1      4.142383\n",
      "39  28     23.057526\n",
      "40   4      4.491050\n"
     ]
    }
   ],
   "source": [
    "y_pred = regr.predict(x_test)\n",
    "data = {\n",
    "    \"4s\": y_test.reshape(-1),\n",
    "    \"Predicted 4s\" : y_pred.reshape(-1)\n",
    "}\n",
    "\n",
    "#a dataframe for comparing test data with prediction data\n",
    "df1 = pd.DataFrame(data)\n",
    "print(df1)"
   ]
  }
 ],
 "metadata": {
  "kernelspec": {
   "display_name": "Python 3 (ipykernel)",
   "language": "python",
   "name": "python3"
  },
  "language_info": {
   "codemirror_mode": {
    "name": "ipython",
    "version": 3
   },
   "file_extension": ".py",
   "mimetype": "text/x-python",
   "name": "python",
   "nbconvert_exporter": "python",
   "pygments_lexer": "ipython3",
   "version": "3.10.5"
  }
 },
 "nbformat": 4,
 "nbformat_minor": 5
}
